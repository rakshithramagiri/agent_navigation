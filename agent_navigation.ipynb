{
 "cells": [
  {
   "cell_type": "code",
   "execution_count": 1,
   "metadata": {},
   "outputs": [],
   "source": [
    "import torch\n",
    "import numpy as np\n",
    "from unityagents import UnityEnvironment\n",
    "\n",
    "from dqn_agent import DQN_AGENT"
   ]
  },
  {
   "cell_type": "code",
   "execution_count": 2,
   "metadata": {},
   "outputs": [
    {
     "name": "stderr",
     "output_type": "stream",
     "text": [
      "INFO:unityagents:\n",
      "'Academy' started successfully!\n",
      "Unity Academy name: Academy\n",
      "        Number of Brains: 1\n",
      "        Number of External Brains : 1\n",
      "        Lesson number : 0\n",
      "        Reset Parameters :\n",
      "\t\t\n",
      "Unity brain name: BananaBrain\n",
      "        Number of Visual Observations (per agent): 0\n",
      "        Vector Observation space type: continuous\n",
      "        Vector Observation space size (per agent): 37\n",
      "        Number of stacked Vector Observation: 1\n",
      "        Vector Action space type: discrete\n",
      "        Vector Action space size (per agent): 4\n",
      "        Vector Action descriptions: , , , \n"
     ]
    }
   ],
   "source": [
    "env = UnityEnvironment(file_name=\"Banana_Linux_NoVis/Banana.x86_64\")"
   ]
  },
  {
   "cell_type": "code",
   "execution_count": 3,
   "metadata": {},
   "outputs": [],
   "source": [
    "brain_name = env.brain_names[0]\n",
    "brain = env.brains[brain_name]"
   ]
  },
  {
   "cell_type": "code",
   "execution_count": null,
   "metadata": {},
   "outputs": [
    {
     "name": "stdout",
     "output_type": "stream",
     "text": [
      "EPISODE 0 -->\tScore : 0.0\n",
      "EPISODE 50 -->\tScore : 1.0\n",
      "EPISODE 100 -->\tScore : 0.0\n",
      "EPISODE 150 -->\tScore : 0.0\n",
      "EPISODE 200 -->\tScore : 1.0\n",
      "EPISODE 250 -->\tScore : 0.0\n",
      "EPISODE 300 -->\tScore : -1.0\n",
      "EPISODE 350 -->\tScore : -1.0\n"
     ]
    }
   ],
   "source": [
    "env_info = env.reset(train_mode=True)[brain_name]\n",
    "state = env_info.vector_observations[0]\n",
    "score = 0\n",
    "\n",
    "env_state_size = len(state)\n",
    "env_action_size = brain.vector_action_space_size\n",
    "\n",
    "agent = DQN_AGENT(env_state_size, env_action_size, 42)\n",
    "eps_start = 1.0\n",
    "eps_decay = 0.995\n",
    "eps_fixed = 0.1\n",
    "eps = eps_start\n",
    "\n",
    "for i in range(1000):\n",
    "    \n",
    "    while True:\n",
    "        action = agent.act(state, eps)\n",
    "        env_info = env.step(action)[brain_name]\n",
    "        next_state = env_info.vector_observations[0]\n",
    "        reward = env_info.rewards[0]\n",
    "        done = env_info.local_done[0]\n",
    "        agent.step(state, action, reward, next_state, done)\n",
    "        score += reward\n",
    "        state = next_state\n",
    "        eps = max(eps_fixed, eps_start*eps_decay)\n",
    "\n",
    "        if done:\n",
    "            env_info = env.reset(train_mode=True)[brain_name]\n",
    "            state = env_info.vector_observations[0]\n",
    "            break\n",
    "\n",
    "    if i % 50 == 0:\n",
    "        print(f\"EPISODE {i} -->\\tScore : {score}\")\n",
    "        \n",
    "    score = 0"
   ]
  },
  {
   "cell_type": "code",
   "execution_count": null,
   "metadata": {},
   "outputs": [],
   "source": []
  }
 ],
 "metadata": {
  "kernelspec": {
   "display_name": "Python 3",
   "language": "python",
   "name": "python3"
  },
  "language_info": {
   "codemirror_mode": {
    "name": "ipython",
    "version": 3
   },
   "file_extension": ".py",
   "mimetype": "text/x-python",
   "name": "python",
   "nbconvert_exporter": "python",
   "pygments_lexer": "ipython3",
   "version": "3.6.8"
  }
 },
 "nbformat": 4,
 "nbformat_minor": 2
}
